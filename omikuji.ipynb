{
 "cells": [
  {
   "cell_type": "markdown",
   "id": "a6e29417",
   "metadata": {},
   "source": [
    "# Omikuji"
   ]
  },
  {
   "cell_type": "markdown",
   "id": "894d5d29",
   "metadata": {},
   "source": [
    "Omikuji is a form of fortune-telling that has been popular at Japanese shrines and temples. With the increase in the number of foreign visitors to Japan, omikuji written in English have also become widely available.\n",
    "Its mechanism can be reproduced and enjoyed with a python code!"
   ]
  },
  {
   "cell_type": "code",
   "execution_count": 16,
   "id": "bc611e08",
   "metadata": {},
   "outputs": [],
   "source": [
    "%matplotlib inline\n",
    "import numpy as np\n",
    "import pandas as pd\n",
    "import matplotlib.pyplot as plt"
   ]
  },
  {
   "cell_type": "code",
   "execution_count": 17,
   "id": "d4866a8b",
   "metadata": {},
   "outputs": [
    {
     "data": {
      "text/html": [
       "<div>\n",
       "<style scoped>\n",
       "    .dataframe tbody tr th:only-of-type {\n",
       "        vertical-align: middle;\n",
       "    }\n",
       "\n",
       "    .dataframe tbody tr th {\n",
       "        vertical-align: top;\n",
       "    }\n",
       "\n",
       "    .dataframe thead th {\n",
       "        text-align: right;\n",
       "    }\n",
       "</style>\n",
       "<table border=\"1\" class=\"dataframe\">\n",
       "  <thead>\n",
       "    <tr style=\"text-align: right;\">\n",
       "      <th></th>\n",
       "      <th>Month/Year</th>\n",
       "      <th>the number of tourists arrivals</th>\n",
       "    </tr>\n",
       "  </thead>\n",
       "  <tbody>\n",
       "    <tr>\n",
       "      <th>0</th>\n",
       "      <td>1/2023</td>\n",
       "      <td>1,308,606</td>\n",
       "    </tr>\n",
       "    <tr>\n",
       "      <th>1</th>\n",
       "      <td>2/2023</td>\n",
       "      <td>1,297,458</td>\n",
       "    </tr>\n",
       "    <tr>\n",
       "      <th>2</th>\n",
       "      <td>3/2023</td>\n",
       "      <td>1,582,518</td>\n",
       "    </tr>\n",
       "    <tr>\n",
       "      <th>3</th>\n",
       "      <td>4/2023</td>\n",
       "      <td>1,738,172</td>\n",
       "    </tr>\n",
       "    <tr>\n",
       "      <th>4</th>\n",
       "      <td>5/2023</td>\n",
       "      <td>1,656,118</td>\n",
       "    </tr>\n",
       "    <tr>\n",
       "      <th>5</th>\n",
       "      <td>6/2023</td>\n",
       "      <td>1,882,296</td>\n",
       "    </tr>\n",
       "    <tr>\n",
       "      <th>6</th>\n",
       "      <td>7/2023</td>\n",
       "      <td>2,108,438</td>\n",
       "    </tr>\n",
       "    <tr>\n",
       "      <th>7</th>\n",
       "      <td>8/2023</td>\n",
       "      <td>1,897,129</td>\n",
       "    </tr>\n",
       "    <tr>\n",
       "      <th>8</th>\n",
       "      <td>9/2023</td>\n",
       "      <td>1,905,162</td>\n",
       "    </tr>\n",
       "    <tr>\n",
       "      <th>9</th>\n",
       "      <td>10/2023</td>\n",
       "      <td>2,245,892</td>\n",
       "    </tr>\n",
       "    <tr>\n",
       "      <th>10</th>\n",
       "      <td>11/2023</td>\n",
       "      <td>2,206,883</td>\n",
       "    </tr>\n",
       "    <tr>\n",
       "      <th>11</th>\n",
       "      <td>12/2023</td>\n",
       "      <td>2,551,290</td>\n",
       "    </tr>\n",
       "    <tr>\n",
       "      <th>12</th>\n",
       "      <td>1/2024</td>\n",
       "      <td>2,386,640</td>\n",
       "    </tr>\n",
       "  </tbody>\n",
       "</table>\n",
       "</div>"
      ],
      "text/plain": [
       "   Month/Year the number of tourists arrivals\n",
       "0      1/2023                       1,308,606\n",
       "1      2/2023                       1,297,458\n",
       "2      3/2023                       1,582,518\n",
       "3      4/2023                       1,738,172\n",
       "4      5/2023                       1,656,118\n",
       "5      6/2023                       1,882,296\n",
       "6      7/2023                       2,108,438\n",
       "7      8/2023                       1,897,129\n",
       "8      9/2023                       1,905,162\n",
       "9     10/2023                       2,245,892\n",
       "10    11/2023                       2,206,883\n",
       "11    12/2023                       2,551,290\n",
       "12     1/2024                       2,386,640"
      ]
     },
     "execution_count": 17,
     "metadata": {},
     "output_type": "execute_result"
    }
   ],
   "source": [
    "df=pd.read_csv(\"tourist arrivals.csv\")\n",
    "df"
   ]
  },
  {
   "cell_type": "code",
   "execution_count": 18,
   "id": "ddd1879f",
   "metadata": {},
   "outputs": [],
   "source": [
    "x=df[\"Month/Year\"]\n",
    "y=df[\"the number of tourists arrivals\"]"
   ]
  },
  {
   "cell_type": "code",
   "execution_count": 21,
   "id": "ff401cb6",
   "metadata": {},
   "outputs": [],
   "source": [
    "df_sorted = df.sort_values(by='the number of tourists arrivals', ascending=False)"
   ]
  },
  {
   "cell_type": "code",
   "execution_count": 27,
   "id": "d4af975f",
   "metadata": {},
   "outputs": [],
   "source": [
    "x = df['Month/Year']\n",
    "y = df_sorted['the number of tourists arrivals'] "
   ]
  },
  {
   "cell_type": "code",
   "execution_count": null,
   "id": "0c8c8a49",
   "metadata": {},
   "outputs": [],
   "source": [
    "plt.plot(x,y,marker=\"o\", linestyle='-')\n",
    "plt.title (\"tourist arrivals in Japan\")\n",
    "plt.xlabel(\"Month/Year\")\n",
    "plt.ylabel(\"the number of tourists arrivals\")\n",
    "plt.show()"
   ]
  },
  {
   "cell_type": "markdown",
   "id": "ff300b1a",
   "metadata": {},
   "source": [
    "Try omikuji"
   ]
  },
  {
   "cell_type": "code",
   "execution_count": 9,
   "id": "66255344",
   "metadata": {},
   "outputs": [],
   "source": [
    "import tkinter as tk\n",
    "import random\n",
    "\n",
    "def disLabel():\n",
    "    omikuji=['Daikichi','Kichi','Chukichi','Syokichi','Suekichi','Kyo']\n",
    "    lbl.configure(font=(\"\", 50),bg='#ffffff', text=random.choice(omikuji))\n",
    "    lbl.place(x=90, y=130)\n",
    "    \n",
    "root=tk.Tk()\n",
    "root.geometry(\"500x500\")\n",
    "root.title(\"Omikuji\")\n",
    "root.resizable(False,False)\n",
    "\n",
    "canvas=tk.Canvas(root, height=500,width=500)\n",
    "canvas.place(x=0,y=0)\n",
    "\n",
    "btn=tk.Button(root, text=\"Finish\", width=6, height=2, command=lambda:root.destroy())\n",
    "btn.place(x = 200, y = 450)\n",
    "\n",
    "lbl = tk.Label(text=\"Omikuji\", width=10, height=3)\n",
    "btn = tk.Button(root, text=\"Push\", width=10, height=3,command=disLabel)\n",
    "btn.place(x = 150, y = 300)\n",
    "\n",
    "lbl.pack() \n",
    "btn.pack()\n",
    "root.mainloop()"
   ]
  },
  {
   "cell_type": "markdown",
   "id": "99579932",
   "metadata": {},
   "source": [
    "The meaning of omikuji"
   ]
  },
  {
   "cell_type": "code",
   "execution_count": 15,
   "id": "e90baa1f",
   "metadata": {},
   "outputs": [
    {
     "name": "stdout",
     "output_type": "stream",
     "text": [
      "    Omikuji  Meaning\n",
      "0  Daikichi  Awesome\n",
      "1     Kichi     Good\n",
      "2  Chukichi   Normal\n",
      "3  Syokichi  Not bad\n",
      "4  Suekichi      Bad\n",
      "5       Kyo  Too Bad\n"
     ]
    }
   ],
   "source": [
    "import pandas as pd \n",
    "\n",
    "listA=['Daikichi','Kichi','Chukichi','Syokichi','Suekichi','Kyo']\n",
    "listB=['Awesome','Good','Normal','Not bad','Bad','Too Bad']\n",
    "\n",
    "\n",
    "df=pd.DataFrame(listA)\n",
    "df[1]=listB\n",
    "\n",
    "df.columns=['Omikuji','Meaning']\n",
    "\n",
    "print(df)"
   ]
  },
  {
   "cell_type": "code",
   "execution_count": null,
   "id": "64442a20",
   "metadata": {},
   "outputs": [],
   "source": []
  }
 ],
 "metadata": {
  "kernelspec": {
   "display_name": "Python 3 (ipykernel)",
   "language": "python",
   "name": "python3"
  },
  "language_info": {
   "codemirror_mode": {
    "name": "ipython",
    "version": 3
   },
   "file_extension": ".py",
   "mimetype": "text/x-python",
   "name": "python",
   "nbconvert_exporter": "python",
   "pygments_lexer": "ipython3",
   "version": "3.9.13"
  }
 },
 "nbformat": 4,
 "nbformat_minor": 5
}
